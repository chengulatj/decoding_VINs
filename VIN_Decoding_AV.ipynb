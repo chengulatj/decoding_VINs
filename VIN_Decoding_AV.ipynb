{
  "nbformat": 4,
  "nbformat_minor": 0,
  "metadata": {
    "colab": {
      "provenance": [],
      "include_colab_link": true
    },
    "kernelspec": {
      "name": "python3",
      "display_name": "Python 3"
    },
    "language_info": {
      "name": "python"
    }
  },
  "cells": [
    {
      "cell_type": "markdown",
      "metadata": {
        "id": "view-in-github",
        "colab_type": "text"
      },
      "source": [
        "<a href=\"https://colab.research.google.com/github/chengulatj/decoding_VINs/blob/main/VIN_Decoding_AV.ipynb\" target=\"_parent\"><img src=\"https://colab.research.google.com/assets/colab-badge.svg\" alt=\"Open In Colab\"/></a>"
      ]
    },
    {
      "cell_type": "code",
      "source": [
        "from google.colab import drive\n",
        "drive.mount('/content/drive')"
      ],
      "metadata": {
        "colab": {
          "base_uri": "https://localhost:8080/"
        },
        "id": "2jD02Q8fKcYl",
        "outputId": "360419a4-9ab5-4f20-eb95-df063bc6c2f6"
      },
      "execution_count": null,
      "outputs": [
        {
          "output_type": "stream",
          "name": "stdout",
          "text": [
            "Mounted at /content/drive\n"
          ]
        }
      ]
    },
    {
      "cell_type": "code",
      "source": [
        "from google.colab import drive\n",
        "import pandas as pd\n",
        "import requests\n",
        "\n",
        "# Step 2: Read the API link securely from a file\n",
        "with open('/content/drive/MyDrive/VINLINK.txt') as f:\n",
        "    for line in f:\n",
        "        if '=' in line:\n",
        "            parts = line.strip().split('=')  # Split the line by '='\n",
        "            # Safely access the key and value, handling potential extra '='\n",
        "            key = parts[0] if parts else None\n",
        "            value = parts[1] if len(parts) > 1 else None\n",
        "            if key == 'VINLINK':\n",
        "                VINLINK = value\n",
        "                break  # Exit loop after finding VINLINK\n",
        "\n",
        "# Step 3: Define a function to decode a VIN using the NHTSA API\n",
        "def decode_vin(vin):\n",
        "    # Use the secure API link read from the file\n",
        "    url = f\"{VINLINK}{vin}?format=json\"\n",
        "    response = requests.get(url)\n",
        "    if response.status_code == 200:\n",
        "        return response.json()\n",
        "    else:\n",
        "        return None\n",
        "\n",
        "# Step 4: Load the dataset containing VINs\n",
        "df = pd.read_csv(\"/content/drive/MyDrive/vin_nos.csv\")\n",
        "\n",
        "# Step 5: Create an empty list to store the decoded VIN information\n",
        "decoded_vins = []\n",
        "\n",
        "# Step 6: Iterate over the VIN numbers in the dataset and decode them\n",
        "for vin in df['VIN']:\n",
        "    decoded_info = decode_vin(vin)\n",
        "    if decoded_info and 'Results' in decoded_info:\n",
        "        # Append the decoded information to the list\n",
        "        decoded_vins.append(decoded_info['Results'][0])\n",
        "\n",
        "# Step 7: Convert the list of decoded information to a DataFrame\n",
        "decoded_vins_df = pd.DataFrame(decoded_vins)\n",
        "\n",
        "# Step 8: Add a temporary unique identifier to each DataFrame\n",
        "df['temp_id'] = range(1, len(df) + 1)\n",
        "decoded_vins_df['temp_id'] = range(1, len(decoded_vins_df) + 1)\n",
        "\n",
        "# Step 9: Merge the DataFrames using VIN and the temporary identifier\n",
        "merged_df = pd.merge(df, decoded_vins_df, on=['VIN', 'temp_id'], how='inner')\n",
        "\n",
        "# Step 10: Drop the temporary identifier\n",
        "merged_df.drop('temp_id', axis=1, inplace=True)\n",
        "\n",
        "# Step 11: Save the merged DataFrame to a new CSV file\n",
        "merged_df.to_csv(\"/content/drive/MyDrive/decoded_vins.csv\", index=False)\n",
        "\n",
        "print(\"Decoded VINs saved to 'decoded_vins.csv'\")\n"
      ],
      "metadata": {
        "id": "N4MAjEKBfOiG",
        "colab": {
          "base_uri": "https://localhost:8080/"
        },
        "outputId": "debcdd22-b772-4eae-b31f-c63a55cde44b"
      },
      "execution_count": 9,
      "outputs": [
        {
          "output_type": "stream",
          "name": "stdout",
          "text": [
            "Decoded VINs saved to 'decoded_vins.csv'\n"
          ]
        }
      ]
    }
  ]
}